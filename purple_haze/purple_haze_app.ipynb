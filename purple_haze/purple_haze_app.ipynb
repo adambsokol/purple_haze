{
 "cells": [
  {
   "cell_type": "code",
   "execution_count": 2,
   "metadata": {},
   "outputs": [],
   "source": [
    "# IMPORTS TO RUN THE NOTEBOOK\n",
    "import figures\n",
    "import glob\n",
    "import air as air\n",
    "import ipywidgets as widgets\n",
    "from ipywidgets import Layout\n",
    "from IPython.display import display\n",
    "import matcher as match\n",
    "import numpy as np\n",
    "import matplotlib.pyplot as plt\n",
    "import matplotlib.colors as colors\n",
    "import pandas as pd\n",
    "import scipy.stats as sc_stats\n",
    "import warnings\n",
    "import altair as alt\n",
    "warnings.filterwarnings(\"ignore\")\n",
    "%load_ext autoreload"
   ]
  },
  {
   "cell_type": "code",
   "execution_count": 3,
   "metadata": {},
   "outputs": [],
   "source": [
    "# MERGE THE TWO DATASETS\n",
    "%autoreload\n",
    "sensor_data = air.files_to_dataframe(glob.glob('../data/purple_air/*'))\n",
    "matched_ses_data = match.station_matcher(sensor_data)"
   ]
  },
  {
   "cell_type": "code",
   "execution_count": 4,
   "metadata": {},
   "outputs": [],
   "source": [
    "# ADD AQI METRICS TO EACH CENSUS TRACT\n",
    "%autoreload\n",
    "matched_ses_data['mean_aqi'] = matched_ses_data.apply(lambda row: air.get_tract_mean_aqi(row), axis=1)\n",
    "matched_ses_data['exposure_aqi100'] = matched_ses_data.apply(lambda row: air.get_tract_exposure(row, 100), axis=1)\n",
    "matched_ses_data['exposure_aqi150'] = matched_ses_data.apply(lambda row: air.get_tract_exposure(row, 150), axis=1)\n",
    "matched_ses_data['mean_aqi_no_smoke'] = matched_ses_data.apply(lambda row: air.get_tract_mean_aqi(row, include_smoke=False), axis=1)\n",
    "matched_ses_data['exposure_aqi100_no_smoke'] = matched_ses_data.apply(lambda row: air.get_tract_exposure(row, 100, include_smoke=False), axis=1)\n",
    "matched_ses_data['exposure_aqi150_no_smoke'] = matched_ses_data.apply(lambda row: air.get_tract_exposure(row, 150, include_smoke=False), axis=1)"
   ]
  },
  {
   "cell_type": "markdown",
   "metadata": {},
   "source": [
    "# Purple Haze Analysis Project"
   ]
  },
  {
   "cell_type": "markdown",
   "metadata": {},
   "source": [
    "## Instructions"
   ]
  },
  {
   "cell_type": "markdown",
   "metadata": {},
   "source": [
    "Use 1: To investigate the distribution of an SES metric throughout Seattle's census tracts, use the dropdown labeled \"SES Metric\" over the map on the left."
   ]
  },
  {
   "cell_type": "markdown",
   "metadata": {},
   "source": [
    "Use 2: To investigate the robustness of the relationship between a census tract's average SES metric and the number of PurpleAir sensors within a census tract, use the dropdown labeled \"Socioeconomic Metric\" on the upper right."
   ]
  },
  {
   "cell_type": "markdown",
   "metadata": {},
   "source": [
    "Use 3: To investigate the robustness of the relationship between each census tract's SES metric and an AQI metric, use the dropdowns labeled \"Socioeconomic Metric\" and \"Air Quality Metric\" on the lower right."
   ]
  },
  {
   "cell_type": "code",
   "execution_count": 11,
   "metadata": {},
   "outputs": [],
   "source": [
    "%autoreload"
   ]
  },
  {
   "cell_type": "code",
   "execution_count": 12,
   "metadata": {
    "scrolled": true
   },
   "outputs": [
    {
     "data": {
      "application/vnd.jupyter.widget-view+json": {
       "model_id": "",
       "version_major": 2,
       "version_minor": 0
      },
      "text/plain": [
       "HBox(children=(VBox(children=(Output(),)), VBox(children=(Output(), Output()))), layout=Layout(flex_flow='row'…"
      ]
     },
     "metadata": {},
     "output_type": "display_data"
    }
   ],
   "source": [
    "figures.display_app(matched_ses_data)"
   ]
  },
  {
   "cell_type": "code",
   "execution_count": null,
   "metadata": {},
   "outputs": [],
   "source": []
  }
 ],
 "metadata": {
  "kernelspec": {
   "display_name": "Python 3",
   "language": "python",
   "name": "python3"
  },
  "language_info": {
   "codemirror_mode": {
    "name": "ipython",
    "version": 3
   },
   "file_extension": ".py",
   "mimetype": "text/x-python",
   "name": "python",
   "nbconvert_exporter": "python",
   "pygments_lexer": "ipython3",
   "version": "3.8.2"
  }
 },
 "nbformat": 4,
 "nbformat_minor": 4
}
